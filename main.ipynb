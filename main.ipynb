{
 "cells": [
  {
   "cell_type": "markdown",
   "id": "incorporate-cylinder",
   "metadata": {
    "toc": true
   },
   "source": [
    "<h1>Table of Contents<span class=\"tocSkip\"></span></h1>\n",
    "<div class=\"toc\"><ul class=\"toc-item\"></ul></div>"
   ]
  },
  {
   "cell_type": "code",
   "execution_count": 1,
   "id": "ceramic-judges",
   "metadata": {},
   "outputs": [],
   "source": [
    "import requests\n",
    "from requests.adapters import HTTPAdapter\n",
    "import pandas\n",
    "import time\n",
    "import tools"
   ]
  },
  {
   "cell_type": "code",
   "execution_count": null,
   "id": "signed-action",
   "metadata": {},
   "outputs": [],
   "source": [
    "# initialization\n",
    "\n",
    "sess = requests.session()\n",
    "sess.mount('https://', HTTPAdapter(max_retries=3))"
   ]
  },
  {
   "cell_type": "code",
   "execution_count": null,
   "id": "material-prince",
   "metadata": {},
   "outputs": [],
   "source": [
    "\n",
    "# Parameter Settings\n",
    "base_url = 'https://www.airbnb.com/s/London/homes?selected_tab_id=home_tab&refinement_paths%5B%5D=%2Fhomes&screen_size=large&display_currency=USD&tab_id=home_tab&flexible_trip_dates%5B%5D=april&flexible_trip_dates%5B%5D=march&flexible_trip_lengths%5B%5D=weekend_trip&date_picker_type=calendar&search_type=pagination&place_id=ChIJdd4hrwug2EcRmSrV3Vo6llI&federated_search_session_id=4951ed3b-6ee1-4d98-9d9c-5b5a959017a8&map_toggle=false'\n",
    "headers = {'user-agent': 'Mozilla/5.0 (Windows NT 10.0; Win64; x64; rv:86.0) Gecko/20100101 Firefox/86.0'}\n"
   ]
  },
  {
   "cell_type": "code",
   "execution_count": null,
   "id": "senior-assault",
   "metadata": {},
   "outputs": [],
   "source": [
    "\n",
    "# Counted values\n",
    "flag = 0  # 0:Next Page ；1:stop; 2:false\n"
   ]
  },
  {
   "cell_type": "code",
   "execution_count": null,
   "id": "stone-shanghai",
   "metadata": {},
   "outputs": [],
   "source": [
    "\n",
    "page = 1  # log current page\n",
    "data = pandas.DataFrame()  # save the data\n"
   ]
  },
  {
   "cell_type": "code",
   "execution_count": null,
   "id": "smooth-birmingham",
   "metadata": {},
   "outputs": [],
   "source": [
    "\n",
    "# main\n",
    "while flag == 0:\n",
    "    if page != 1:\n",
    "        url = base_url + f'&items_offset={(page-1)*20}&section_offset=3'\n",
    "    else:\n",
    "        url = base_url\n",
    "    rs = sess.get(url=url, headers=headers)\n",
    "\n",
    "    # scrap the content（title, label, mark, price, detail）\n",
    "    data = tools.info_ext(rs.text, data)\n",
    "    if not isinstance(data, pandas.DataFrame):\n",
    "        flag = 2\n",
    "        break\n",
    "\n",
    "    # net page\n",
    "    print(f'page：{page}')\n",
    "    print(rs.url)\n",
    "    flag = page == 15\n",
    "    page += 1\n",
    "\n",
    "    # sleep\n",
    "    time.sleep(1)\n"
   ]
  },
  {
   "cell_type": "code",
   "execution_count": null,
   "id": "authorized-batch",
   "metadata": {},
   "outputs": [],
   "source": [
    "\n",
    "# storage\n",
    "if flag != 2:\n",
    "    data.columns = ['title', 'label', 'mark', 'price', 'detail']\n",
    "    data.to_excel(f'{int(time.time())}.xlsx')\n"
   ]
  },
  {
   "cell_type": "code",
   "execution_count": null,
   "id": "minute-folks",
   "metadata": {},
   "outputs": [],
   "source": []
  },
  {
   "cell_type": "code",
   "execution_count": null,
   "id": "loaded-prescription",
   "metadata": {},
   "outputs": [],
   "source": []
  }
 ],
 "metadata": {
  "kernelspec": {
   "display_name": "Python 3",
   "language": "python",
   "name": "python3"
  },
  "language_info": {
   "codemirror_mode": {
    "name": "ipython",
    "version": 3
   },
   "file_extension": ".py",
   "mimetype": "text/x-python",
   "name": "python",
   "nbconvert_exporter": "python",
   "pygments_lexer": "ipython3",
   "version": "3.8.3"
  },
  "toc": {
   "base_numbering": 1,
   "nav_menu": {},
   "number_sections": true,
   "sideBar": true,
   "skip_h1_title": true,
   "title_cell": "Table of Contents",
   "title_sidebar": "Contents",
   "toc_cell": true,
   "toc_position": {},
   "toc_section_display": true,
   "toc_window_display": false
  }
 },
 "nbformat": 4,
 "nbformat_minor": 5
}
