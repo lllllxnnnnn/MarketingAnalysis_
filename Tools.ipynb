{
 "cells": [
  {
   "cell_type": "markdown",
   "id": "armed-underground",
   "metadata": {
    "toc": true
   },
   "source": [
    "<h1>Table of Contents<span class=\"tocSkip\"></span></h1>\n",
    "<div class=\"toc\"><ul class=\"toc-item\"></ul></div>"
   ]
  },
  {
   "cell_type": "code",
   "execution_count": 1,
   "id": "executed-leonard",
   "metadata": {},
   "outputs": [],
   "source": [
    "from bs4 import BeautifulSoup\n",
    "import pandas\n",
    "\n",
    "\n",
    "def info_ext(page_source, data):\n",
    "    bs = BeautifulSoup(page_source, 'html.parser')\n",
    "\n",
    "    # title\n",
    "    title_group = bs.find_all('a', {'class': '_sqvp1j'})\n",
    "    if title_group:\n",
    "        title = [i.attrs['aria-label'] for i in title_group]\n",
    "        title = pandas.DataFrame().append(title)\n",
    "    else:\n",
    "        print('title not found')\n",
    "        return None\n",
    "\n",
    "    # label\n",
    "    label_group = bs.find_all('ol', {'class': '_194e2vt2'})\n",
    "    if label_group:\n",
    "        label = [i.get_text() for i in label_group]\n",
    "        label = pandas.DataFrame().append(label)\n",
    "    else:\n",
    "        print('label not found')\n",
    "        return None\n",
    "\n",
    "    # mark\n",
    "    mark_group = bs.find_all('span', {'class': '_18khxk1'})\n",
    "    if mark_group:\n",
    "        mark = [i.get_text() for i in mark_group]\n",
    "        mark = pandas.DataFrame().append(mark)\n",
    "    else:\n",
    "        print('mark not found')\n",
    "        return None\n",
    "\n",
    "    # price\n",
    "    price_group = bs.find_all('span', {'class': '_olc9rf0'})\n",
    "    if price_group:\n",
    "        price = [i.get_text() for i in price_group]\n",
    "        price = pandas.DataFrame().append(price)\n",
    "    else:\n",
    "        print('price not found')\n",
    "        return None\n",
    "\n",
    "    # detail\n",
    "    detail_group = bs.find_all('a', {'class': '_sqvp1j'})\n",
    "    if detail_group:\n",
    "        base_url = 'https://www.airbnb.com'\n",
    "        detail = [base_url+i.attrs['href'] for i in detail_group]\n",
    "        detail = pandas.DataFrame().append(detail)\n",
    "    else:\n",
    "        print('detail not found')\n",
    "        return None\n",
    "\n",
    "    # data manipulation\n",
    "    df = pandas.concat([title, label, mark, price, detail], axis=1, ignore_index=True)\n",
    "    data = data.append(df, ignore_index=True)\n",
    "    return data\n",
    "\n"
   ]
  },
  {
   "cell_type": "code",
   "execution_count": null,
   "id": "variable-contractor",
   "metadata": {},
   "outputs": [],
   "source": []
  }
 ],
 "metadata": {
  "kernelspec": {
   "display_name": "Python 3",
   "language": "python",
   "name": "python3"
  },
  "language_info": {
   "codemirror_mode": {
    "name": "ipython",
    "version": 3
   },
   "file_extension": ".py",
   "mimetype": "text/x-python",
   "name": "python",
   "nbconvert_exporter": "python",
   "pygments_lexer": "ipython3",
   "version": "3.8.3"
  },
  "toc": {
   "base_numbering": 1,
   "nav_menu": {},
   "number_sections": true,
   "sideBar": true,
   "skip_h1_title": true,
   "title_cell": "Table of Contents",
   "title_sidebar": "Contents",
   "toc_cell": true,
   "toc_position": {},
   "toc_section_display": true,
   "toc_window_display": false
  }
 },
 "nbformat": 4,
 "nbformat_minor": 5
}
